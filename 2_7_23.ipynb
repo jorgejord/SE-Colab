{
  "nbformat": 4,
  "nbformat_minor": 0,
  "metadata": {
    "colab": {
      "provenance": [],
      "authorship_tag": "ABX9TyN8X8NZNNMOL4SNZqSdew+N",
      "include_colab_link": true
    },
    "kernelspec": {
      "name": "python3",
      "display_name": "Python 3"
    },
    "language_info": {
      "name": "python"
    }
  },
  "cells": [
    {
      "cell_type": "markdown",
      "metadata": {
        "id": "view-in-github",
        "colab_type": "text"
      },
      "source": [
        "<a href=\"https://colab.research.google.com/github/jorgejord/SE-Colab/blob/main/2_7_23.ipynb\" target=\"_parent\"><img src=\"https://colab.research.google.com/assets/colab-badge.svg\" alt=\"Open In Colab\"/></a>"
      ]
    },
    {
      "cell_type": "code",
      "execution_count": null,
      "metadata": {
        "colab": {
          "base_uri": "https://localhost:8080/"
        },
        "id": "yCxR6E2oxF7o",
        "outputId": "772dc5a5-db5c-4210-960e-a58b71ebeff8"
      },
      "outputs": [
        {
          "output_type": "stream",
          "name": "stdout",
          "text": [
            "hellow world\n"
          ]
        }
      ],
      "source": [
        "print('hellow world')"
      ]
    },
    {
      "cell_type": "code",
      "source": [
        "print('Suphaserd Chailangka')"
      ],
      "metadata": {
        "colab": {
          "base_uri": "https://localhost:8080/"
        },
        "id": "pqFUCi41yQEM",
        "outputId": "a1b3879a-d6a3-46d5-d3d4-20d8343f2ead"
      },
      "execution_count": null,
      "outputs": [
        {
          "output_type": "stream",
          "name": "stdout",
          "text": [
            "Suphaserd Chailangka\n"
          ]
        }
      ]
    },
    {
      "cell_type": "code",
      "source": [
        "print('Hellow world')\n",
        "print('Suphaserd Chailangka')\n",
        "print('ภาษาไทย')"
      ],
      "metadata": {
        "colab": {
          "base_uri": "https://localhost:8080/"
        },
        "id": "4KSXN7vdykf1",
        "outputId": "90e3abb5-062b-44fc-e9c4-58646894036f"
      },
      "execution_count": null,
      "outputs": [
        {
          "output_type": "stream",
          "name": "stdout",
          "text": [
            "Hellow world\n",
            "Suphaserd Chailangka\n",
            "ภาษาไทย\n"
          ]
        }
      ]
    },
    {
      "cell_type": "code",
      "source": [
        "print('Hello '+input('Please input your name'))"
      ],
      "metadata": {
        "colab": {
          "base_uri": "https://localhost:8080/"
        },
        "id": "2pEwnQV0015G",
        "outputId": "bbb43723-19a3-43f4-dd74-114bb0ffa4f7"
      },
      "execution_count": null,
      "outputs": [
        {
          "output_type": "stream",
          "name": "stdout",
          "text": [
            "Please input your name1\n",
            "Hello 1\n"
          ]
        }
      ]
    },
    {
      "cell_type": "code",
      "source": [
        "print(input(' '))"
      ],
      "metadata": {
        "colab": {
          "base_uri": "https://localhost:8080/"
        },
        "id": "D4pQa5fL1Kwu",
        "outputId": "ab84da2f-9bdf-4292-ca40-17887eb5d50a"
      },
      "execution_count": null,
      "outputs": [
        {
          "output_type": "stream",
          "name": "stdout",
          "text": [
            " 1\n",
            "1\n"
          ]
        }
      ]
    },
    {
      "cell_type": "code",
      "source": [
        "print(1+1)"
      ],
      "metadata": {
        "colab": {
          "base_uri": "https://localhost:8080/"
        },
        "id": "5fkC4fHK2XN2",
        "outputId": "373e39ce-2e84-43ca-f411-065dc7bc4758"
      },
      "execution_count": null,
      "outputs": [
        {
          "output_type": "stream",
          "name": "stdout",
          "text": [
            "2\n"
          ]
        }
      ]
    },
    {
      "cell_type": "code",
      "source": [
        "print(\"Hello\"+\"Hi\")"
      ],
      "metadata": {
        "colab": {
          "base_uri": "https://localhost:8080/"
        },
        "id": "feJwVXhX2gUl",
        "outputId": "8f8751f4-74d0-4b94-97d1-a41920aa5870"
      },
      "execution_count": null,
      "outputs": [
        {
          "output_type": "stream",
          "name": "stdout",
          "text": [
            "HelloHi\n"
          ]
        }
      ]
    },
    {
      "cell_type": "code",
      "source": [
        "print(\"Hello\"+'123')"
      ],
      "metadata": {
        "colab": {
          "base_uri": "https://localhost:8080/"
        },
        "id": "fSAA3-R23fgO",
        "outputId": "84315d2d-7b37-4efa-f188-b2a48f228531"
      },
      "execution_count": null,
      "outputs": [
        {
          "output_type": "stream",
          "name": "stdout",
          "text": [
            "Hello123\n"
          ]
        }
      ]
    },
    {
      "cell_type": "code",
      "source": [
        "print('Hello'+'123')"
      ],
      "metadata": {
        "colab": {
          "base_uri": "https://localhost:8080/"
        },
        "id": "EJzVwP8_3lEe",
        "outputId": "d7f26be6-9920-4253-efd6-5b1537eca3d4"
      },
      "execution_count": null,
      "outputs": [
        {
          "output_type": "stream",
          "name": "stdout",
          "text": [
            "Hello123\n"
          ]
        }
      ]
    },
    {
      "cell_type": "code",
      "source": [
        "print('Hello'+\"123\")"
      ],
      "metadata": {
        "colab": {
          "base_uri": "https://localhost:8080/"
        },
        "id": "LCuwYtpK3oiG",
        "outputId": "4562846c-e468-4ec0-e5f5-cb696a74029e"
      },
      "execution_count": null,
      "outputs": [
        {
          "output_type": "stream",
          "name": "stdout",
          "text": [
            "Hello123\n"
          ]
        }
      ]
    },
    {
      "cell_type": "code",
      "source": [
        "print(input(\" \"))"
      ],
      "metadata": {
        "colab": {
          "base_uri": "https://localhost:8080/"
        },
        "id": "T-oFztLC3xZe",
        "outputId": "89238130-1753-481f-a197-794d63206d8d"
      },
      "execution_count": null,
      "outputs": [
        {
          "output_type": "stream",
          "name": "stdout",
          "text": [
            " ค่าของผู้ใช้\n",
            "ค่าของผู้ใช้\n"
          ]
        }
      ]
    },
    {
      "cell_type": "code",
      "source": [
        "x=1+1\n",
        "print(x+5)"
      ],
      "metadata": {
        "colab": {
          "base_uri": "https://localhost:8080/"
        },
        "id": "wvrGIuIK5Hin",
        "outputId": "d13c325a-d35d-4c6c-fe4f-dd2b05125908"
      },
      "execution_count": null,
      "outputs": [
        {
          "output_type": "stream",
          "name": "stdout",
          "text": [
            "7\n"
          ]
        }
      ]
    },
    {
      "cell_type": "code",
      "source": [
        "type(0.1)"
      ],
      "metadata": {
        "colab": {
          "base_uri": "https://localhost:8080/"
        },
        "id": "pH9cY5HL6P8_",
        "outputId": "6f39a4f7-537a-4c10-8d8f-cfc5223bb5cb"
      },
      "execution_count": null,
      "outputs": [
        {
          "output_type": "execute_result",
          "data": {
            "text/plain": [
              "float"
            ]
          },
          "metadata": {},
          "execution_count": 45
        }
      ]
    },
    {
      "cell_type": "code",
      "source": [
        "type(1)"
      ],
      "metadata": {
        "colab": {
          "base_uri": "https://localhost:8080/"
        },
        "id": "93pJp_Xv8sKQ",
        "outputId": "4ceeb3bd-5989-4cb8-d77c-07f9cba53561"
      },
      "execution_count": null,
      "outputs": [
        {
          "output_type": "execute_result",
          "data": {
            "text/plain": [
              "int"
            ]
          },
          "metadata": {},
          "execution_count": 46
        }
      ]
    },
    {
      "cell_type": "code",
      "source": [
        "type(\"1\")"
      ],
      "metadata": {
        "colab": {
          "base_uri": "https://localhost:8080/"
        },
        "id": "SWPq8EgB8sPH",
        "outputId": "76bd8fc2-177a-4e7f-935d-ea170778d976"
      },
      "execution_count": null,
      "outputs": [
        {
          "output_type": "execute_result",
          "data": {
            "text/plain": [
              "str"
            ]
          },
          "metadata": {},
          "execution_count": 49
        }
      ]
    },
    {
      "cell_type": "code",
      "source": [
        "type(1==1)"
      ],
      "metadata": {
        "colab": {
          "base_uri": "https://localhost:8080/"
        },
        "id": "BN1BMzLf8sR5",
        "outputId": "f9bd38bc-554b-4c75-eb6e-02fe77da3d08"
      },
      "execution_count": null,
      "outputs": [
        {
          "output_type": "execute_result",
          "data": {
            "text/plain": [
              "bool"
            ]
          },
          "metadata": {},
          "execution_count": 55
        }
      ]
    },
    {
      "cell_type": "code",
      "source": [
        "1==1"
      ],
      "metadata": {
        "colab": {
          "base_uri": "https://localhost:8080/"
        },
        "id": "-VWMFPUv9IRY",
        "outputId": "a0beabac-0b4b-4651-a544-e95e011cb079"
      },
      "execution_count": null,
      "outputs": [
        {
          "output_type": "execute_result",
          "data": {
            "text/plain": [
              "True"
            ]
          },
          "metadata": {},
          "execution_count": 56
        }
      ]
    },
    {
      "cell_type": "code",
      "source": [
        "1==1.0"
      ],
      "metadata": {
        "colab": {
          "base_uri": "https://localhost:8080/"
        },
        "id": "jWOFTJ4_9PKC",
        "outputId": "396a5384-b63a-4aa7-93a3-a5a7244f28c4"
      },
      "execution_count": null,
      "outputs": [
        {
          "output_type": "execute_result",
          "data": {
            "text/plain": [
              "True"
            ]
          },
          "metadata": {},
          "execution_count": 57
        }
      ]
    },
    {
      "cell_type": "code",
      "source": [
        "type(1)==type(1.0)"
      ],
      "metadata": {
        "colab": {
          "base_uri": "https://localhost:8080/"
        },
        "id": "EzKV4HrA9isY",
        "outputId": "310cb94a-7c3b-4267-a940-d835627df56b"
      },
      "execution_count": null,
      "outputs": [
        {
          "output_type": "execute_result",
          "data": {
            "text/plain": [
              "False"
            ]
          },
          "metadata": {},
          "execution_count": 58
        }
      ]
    },
    {
      "cell_type": "code",
      "source": [
        "1==\"1\""
      ],
      "metadata": {
        "colab": {
          "base_uri": "https://localhost:8080/"
        },
        "id": "bshjd6V_9mt4",
        "outputId": "d63b1f9a-a975-4f22-d85d-19153ff9e7e1"
      },
      "execution_count": null,
      "outputs": [
        {
          "output_type": "execute_result",
          "data": {
            "text/plain": [
              "False"
            ]
          },
          "metadata": {},
          "execution_count": 59
        }
      ]
    },
    {
      "cell_type": "code",
      "source": [
        "\"1.0\"==\"1\""
      ],
      "metadata": {
        "colab": {
          "base_uri": "https://localhost:8080/"
        },
        "id": "g5IrEJMo98T4",
        "outputId": "fe240d2e-8872-4be4-d2c8-cc2fe1bb422a"
      },
      "execution_count": null,
      "outputs": [
        {
          "output_type": "execute_result",
          "data": {
            "text/plain": [
              "False"
            ]
          },
          "metadata": {},
          "execution_count": 60
        }
      ]
    },
    {
      "cell_type": "code",
      "source": [
        "\"1.0\"==\"1.0\""
      ],
      "metadata": {
        "colab": {
          "base_uri": "https://localhost:8080/"
        },
        "id": "suvk4xIM-RT4",
        "outputId": "d9b8c271-2454-4915-9cb8-ca61167ee2fa"
      },
      "execution_count": null,
      "outputs": [
        {
          "output_type": "execute_result",
          "data": {
            "text/plain": [
              "True"
            ]
          },
          "metadata": {},
          "execution_count": 61
        }
      ]
    },
    {
      "cell_type": "code",
      "source": [
        "import antigravity\n",
        "\n",
        "def reverse_string(string):\n",
        "    return string[::-1]\n",
        "\n",
        "message = \"Hello, World!\"\n",
        "reversed_message = reverse_string(message)\n",
        "print(reversed_message)\n"
      ],
      "metadata": {
        "colab": {
          "base_uri": "https://localhost:8080/"
        },
        "id": "odOxLz7aGDe5",
        "outputId": "2f48389f-1a23-4456-dbb4-5772292a4977"
      },
      "execution_count": null,
      "outputs": [
        {
          "output_type": "stream",
          "name": "stdout",
          "text": [
            "!dlroW ,olleH\n"
          ]
        }
      ]
    },
    {
      "cell_type": "code",
      "source": [
        "#คำตอบมากลับด้านนนนนนนนนน\n",
        "import this\n",
        "\n",
        "x = 12\n",
        "y = 11\n",
        "\n",
        "def reverse_int(integer):\n",
        "    return int(str(integer)[::-1])\n",
        "\n",
        "result = x * y + x - y\n",
        "reversed_result = reverse_int(result)\n",
        "print(reversed_result)\n"
      ],
      "metadata": {
        "colab": {
          "base_uri": "https://localhost:8080/"
        },
        "id": "Q1eR_3FZHh4q",
        "outputId": "0129a613-0c7b-46a9-b328-8cc23ef3bf0a"
      },
      "execution_count": null,
      "outputs": [
        {
          "output_type": "stream",
          "name": "stdout",
          "text": [
            "331\n"
          ]
        }
      ]
    },
    {
      "cell_type": "code",
      "source": [
        "import this\n",
        "\n",
        "x = 10\n",
        "y = 5\n",
        "\n",
        "result = x * y + x - y\n",
        "print(result)\n"
      ],
      "metadata": {
        "colab": {
          "base_uri": "https://localhost:8080/"
        },
        "id": "DiMmEZbRGWRg",
        "outputId": "b3ac10de-27c9-4b61-a332-cda40e3a4555"
      },
      "execution_count": null,
      "outputs": [
        {
          "output_type": "stream",
          "name": "stdout",
          "text": [
            "55\n"
          ]
        }
      ]
    },
    {
      "cell_type": "code",
      "source": [
        "import this\n",
        "\n",
        "def recursion(n):\n",
        "    if n <= 0:\n",
        "        return\n",
        "    print(\"นับ\", n)\n",
        "    recursion(n - 1)\n",
        "\n",
        "recursion(10)\n"
      ],
      "metadata": {
        "colab": {
          "base_uri": "https://localhost:8080/"
        },
        "id": "l4ZSo1WtHAgy",
        "outputId": "d05f74ae-7e61-4902-b38c-c51413fa9455"
      },
      "execution_count": null,
      "outputs": [
        {
          "output_type": "stream",
          "name": "stdout",
          "text": [
            "นับ 10\n",
            "นับ 9\n",
            "นับ 8\n",
            "นับ 7\n",
            "นับ 6\n",
            "นับ 5\n",
            "นับ 4\n",
            "นับ 3\n",
            "นับ 2\n",
            "นับ 1\n"
          ]
        }
      ]
    },
    {
      "cell_type": "code",
      "source": [
        "import random\n",
        "\n",
        "def strange_function():\n",
        "  \"\"\"Returns a random number between 0 and 100, but with a 50% chance of returning 42.\"\"\"\n",
        "  number = random.randint(0, 100)\n",
        "  if random.random() < 0.5:\n",
        "    return 42\n",
        "  else:\n",
        "    return number\n",
        "\n",
        "print(strange_function())\n"
      ],
      "metadata": {
        "colab": {
          "base_uri": "https://localhost:8080/"
        },
        "id": "-8TvSQY1GqQq",
        "outputId": "d477319f-9aa3-4178-891c-29fbf065ade8"
      },
      "execution_count": null,
      "outputs": [
        {
          "output_type": "stream",
          "name": "stdout",
          "text": [
            "42\n"
          ]
        }
      ]
    },
    {
      "cell_type": "code",
      "source": [
        "def strange_function2():\n",
        "  \"\"\"Returns a string that is either \"Hello, world!\" or \"Goodbye, world!\", but with a 50% chance of returning each.\"\"\"\n",
        "  choice = random.randint(0, 1)\n",
        "  if choice == 0:\n",
        "    return \"Hello, world!\"\n",
        "  else:\n",
        "    return \"Goodbye, world!\"\n",
        "\n",
        "print(strange_function2())\n"
      ],
      "metadata": {
        "colab": {
          "base_uri": "https://localhost:8080/"
        },
        "id": "N1tLuPcYKABS",
        "outputId": "de4a657a-b8f2-4f4b-d087-f952db4e5ab9"
      },
      "execution_count": null,
      "outputs": [
        {
          "output_type": "stream",
          "name": "stdout",
          "text": [
            "Goodbye, world!\n"
          ]
        }
      ]
    },
    {
      "cell_type": "code",
      "source": [
        "def strange_function4():\n",
        "  \"\"\"Returns a string that is the concatenation of all the characters in the string \"Hello, world!\", but with the characters \"e\" and \"o\" removed.\"\"\"\n",
        "  string = \"Hello, world!\"\n",
        "  string = string.replace(\"e\", \"\")\n",
        "  string = string.replace(\"o\", \"\")\n",
        "  return string\n",
        "\n",
        "print(strange_function4())\n"
      ],
      "metadata": {
        "colab": {
          "base_uri": "https://localhost:8080/"
        },
        "id": "O-tMsVtiKMPT",
        "outputId": "04a3c1b9-4eaf-4fbf-c05e-f25dddf8bbf9"
      },
      "execution_count": null,
      "outputs": [
        {
          "output_type": "stream",
          "name": "stdout",
          "text": [
            "Hll, wrld!\n"
          ]
        }
      ]
    },
    {
      "cell_type": "code",
      "source": [
        "print(123,\"Hello\")"
      ],
      "metadata": {
        "colab": {
          "base_uri": "https://localhost:8080/"
        },
        "id": "D-wWU63ZNIND",
        "outputId": "e3b058aa-ce5f-4831-d4fa-7e31e308ea37"
      },
      "execution_count": null,
      "outputs": [
        {
          "output_type": "stream",
          "name": "stdout",
          "text": [
            "123 Hello\n"
          ]
        }
      ]
    },
    {
      "cell_type": "code",
      "source": [
        "print(123,input(\"Hello Mr. \"))"
      ],
      "metadata": {
        "colab": {
          "base_uri": "https://localhost:8080/"
        },
        "id": "4_3ZpJcNOONE",
        "outputId": "296613de-8f0e-4c44-8377-0ea65c18bf3c"
      },
      "execution_count": null,
      "outputs": [
        {
          "output_type": "stream",
          "name": "stdout",
          "text": [
            "Hello Mr. g\n",
            "123 g\n"
          ]
        }
      ]
    },
    {
      "cell_type": "code",
      "source": [
        "print(\"Hello\",input(\"Hello Mr. \"))"
      ],
      "metadata": {
        "colab": {
          "base_uri": "https://localhost:8080/"
        },
        "id": "BkQ8npnMOemk",
        "outputId": "9e6a0cc6-e930-4892-f549-186208904d0b"
      },
      "execution_count": null,
      "outputs": [
        {
          "output_type": "stream",
          "name": "stdout",
          "text": [
            "Hello Mr. a\n",
            "Hello a\n"
          ]
        }
      ]
    },
    {
      "cell_type": "code",
      "source": [
        "print(\"แก้ว\",input(\"แก้ว \"))"
      ],
      "metadata": {
        "colab": {
          "base_uri": "https://localhost:8080/"
        },
        "id": "ZwSO2c5APqKl",
        "outputId": "1ea13b0f-c6ae-4884-cf7f-7b0b3a6c9bfb"
      },
      "execution_count": null,
      "outputs": [
        {
          "output_type": "stream",
          "name": "stdout",
          "text": [
            "แก้ว ชา\n",
            "แก้ว ชา\n"
          ]
        }
      ]
    },
    {
      "cell_type": "code",
      "source": [
        "print(\"\",input(\"แก้ว \"))"
      ],
      "metadata": {
        "colab": {
          "base_uri": "https://localhost:8080/"
        },
        "id": "DJyAdPVEPRhG",
        "outputId": "cd071a59-11de-4157-a481-e4352e9ee028"
      },
      "execution_count": null,
      "outputs": [
        {
          "output_type": "stream",
          "name": "stdout",
          "text": [
            "แก้ว กาแฟ\n",
            " กาแฟ\n"
          ]
        }
      ]
    },
    {
      "cell_type": "code",
      "source": [
        "num1 = 200\n",
        "num2 = 50\n",
        "num2 = num1+num2"
      ],
      "metadata": {
        "id": "XD-LogGwQOgd"
      },
      "execution_count": null,
      "outputs": []
    },
    {
      "cell_type": "code",
      "source": [
        "num3 = num1+num2"
      ],
      "metadata": {
        "id": "7CpXMGEIRa_H"
      },
      "execution_count": null,
      "outputs": []
    },
    {
      "cell_type": "code",
      "source": [
        "print(num2)"
      ],
      "metadata": {
        "colab": {
          "base_uri": "https://localhost:8080/"
        },
        "id": "J_4AES7TQgek",
        "outputId": "95361dc1-52ff-4a94-d0f5-b410b855120b"
      },
      "execution_count": null,
      "outputs": [
        {
          "output_type": "stream",
          "name": "stdout",
          "text": [
            "250\n"
          ]
        }
      ]
    },
    {
      "cell_type": "code",
      "source": [
        "my_value = input(\"Please enter a number : \")\n",
        "print(\"ค่าที่เก็บได้ =\",my_value)"
      ],
      "metadata": {
        "colab": {
          "base_uri": "https://localhost:8080/"
        },
        "id": "r5Jg3dXHSfVO",
        "outputId": "4a83f0f4-01ff-49ce-aec0-605768733db5"
      },
      "execution_count": null,
      "outputs": [
        {
          "output_type": "stream",
          "name": "stdout",
          "text": [
            "Please enter a number : 1\n",
            "ค่าที่เก็บได้ = 1\n"
          ]
        }
      ]
    },
    {
      "cell_type": "code",
      "source": [
        "width = float(input(\"ใส่ค่าของความกว้าง = \"))\n",
        "height = float(input(\"ใส่ค่าของความสูง = \"))\n",
        "area = height*width\n",
        "print(\"พื้นที่ = \",area)"
      ],
      "metadata": {
        "colab": {
          "base_uri": "https://localhost:8080/"
        },
        "id": "fWj3spTxVii1",
        "outputId": "9be4dc0f-c051-4be5-904f-49081ceb8338"
      },
      "execution_count": null,
      "outputs": [
        {
          "output_type": "stream",
          "name": "stdout",
          "text": [
            "ใส่ค่าของความกว้าง = 584\n",
            "ใส่ค่าของความสูง = 84.5\n",
            "พื้นที่ =  49348.0\n"
          ]
        }
      ]
    },
    {
      "cell_type": "code",
      "source": [
        "height = input(\"Please enter height : \")\n",
        "width = input(\"Please enter width : \")\n",
        "\n",
        "print(\"Area : \",(int)(height)*(int)(width))"
      ],
      "metadata": {
        "colab": {
          "base_uri": "https://localhost:8080/"
        },
        "id": "lgptGWdBY2QG",
        "outputId": "6dfda229-d001-43f1-a550-065bb84b6201"
      },
      "execution_count": null,
      "outputs": [
        {
          "output_type": "stream",
          "name": "stdout",
          "text": [
            "Please enter height : 1\n",
            "Please enter width : 5\n",
            "Area :  5\n"
          ]
        }
      ]
    },
    {
      "cell_type": "code",
      "source": [
        "radius = float(input(\"ค่า r = \"))\n",
        "x = 3.14\n",
        "print(\"ค่าของวงกลม = \",x*radius*radius)"
      ],
      "metadata": {
        "colab": {
          "base_uri": "https://localhost:8080/"
        },
        "id": "ajZYBQAXaIvm",
        "outputId": "ea552bf5-5c5d-422c-e6d3-4761137937ea"
      },
      "execution_count": null,
      "outputs": [
        {
          "output_type": "stream",
          "name": "stdout",
          "text": [
            "ค่า r = 4598\n",
            "ค่าของวงกลม =  66384636.56\n"
          ]
        }
      ]
    },
    {
      "cell_type": "code",
      "source": [
        "ตารางวา = float(input(\"ตารางวา = \"))\n",
        "ราคาประเมิน = float(input(\"ราคาประเมิณ = \"))\n",
        "ราคา = ราคาประเมิน*ตารางวา\n",
        "print(\"ราคา\",ราคา,\"บาท\")"
      ],
      "metadata": {
        "colab": {
          "base_uri": "https://localhost:8080/"
        },
        "id": "w2x2ycsIcL1P",
        "outputId": "9d465ec2-b302-48a9-e4f6-d3daed67ff08"
      },
      "execution_count": null,
      "outputs": [
        {
          "output_type": "stream",
          "name": "stdout",
          "text": [
            "ตารางวา = 602.2\n",
            "ราคาประเมิณ = 14.1\n",
            "ราคา 8491.02 บาท\n"
          ]
        }
      ]
    },
    {
      "cell_type": "code",
      "source": [
        "#input\n",
        "start = float(input(\"time start : \"))\n",
        "end = float(input(\"time end : \"))\n",
        "wage = float(input(\"per hour : \"))\n",
        "#process\n",
        "hours = end-start\n",
        "wages = hours*wage\n",
        "#output\n",
        "print(\"wage per hour : \", wages)"
      ],
      "metadata": {
        "colab": {
          "base_uri": "https://localhost:8080/"
        },
        "id": "RIEcFth4eznI",
        "outputId": "d850c7a9-210e-4670-8675-171e0724f95e"
      },
      "execution_count": null,
      "outputs": [
        {
          "output_type": "stream",
          "name": "stdout",
          "text": [
            "time start : 2\n",
            "time end : 10\n",
            "per hour : 10\n",
            "wage per hour :  80.0\n"
          ]
        }
      ]
    },
    {
      "cell_type": "code",
      "source": [
        "distance = (float)(input(\"distance = \"))\n",
        "speed = (float)(input(\"speed : \"))\n",
        "\n",
        "eta = (distance/speed)\n",
        "\n",
        "print(\"ใช้เวลาเดินทางประมาณ\",eta,\"ชั่วโมง\")"
      ],
      "metadata": {
        "colab": {
          "base_uri": "https://localhost:8080/"
        },
        "id": "jCJdqeIWqW2V",
        "outputId": "572257d0-91d6-459b-81c1-62f81b0e415b"
      },
      "execution_count": null,
      "outputs": [
        {
          "output_type": "stream",
          "name": "stdout",
          "text": [
            "distance = 5\n",
            "speed : 60\n",
            "ใช้เวลาเดินทางประมาณ 0.08333333333333333 ชั่วโมง\n"
          ]
        }
      ]
    },
    {
      "cell_type": "code",
      "source": [
        "hour = (float)(input(\"hour = \"))\n",
        "money = (float)(input(\"money = \"))\n",
        "\n",
        "print(\"hour * money = \",hour*money,\"บาท8\")"
      ],
      "metadata": {
        "colab": {
          "base_uri": "https://localhost:8080/"
        },
        "id": "ELguLpgvq7UV",
        "outputId": "42e57934-8545-4bc6-8934-4958bf8e3434"
      },
      "execution_count": null,
      "outputs": [
        {
          "output_type": "stream",
          "name": "stdout",
          "text": [
            "hour = 489\n",
            "money = 478\n",
            "hour * money =  233742.0 บาท\n"
          ]
        }
      ]
    },
    {
      "cell_type": "code",
      "source": [
        "#วัน\n",
        "date = (float)(input(\"วัน : \"))\n",
        "#ตอน\n",
        "episodes = (int)(input(\"ตอน : \"))\n",
        "#นาที\n",
        "length = (float)(input(\"นาที : \"))\n",
        "#นาที:วัน\n",
        "duration = length/date\n",
        "count = duration/episodes\n",
        "print(\"ดูตอนที่\",episodes,\"ใช้เวลา\",duration,\"นาทีต่อวัน\")"
      ],
      "metadata": {
        "colab": {
          "base_uri": "https://localhost:8080/"
        },
        "id": "n_iLeyZGyYxX",
        "outputId": "908d6b03-e0dd-4589-d3d7-7bd8d49f594d"
      },
      "execution_count": null,
      "outputs": [
        {
          "output_type": "stream",
          "name": "stdout",
          "text": [
            "วัน : 5\n",
            "ตอน : 9\n",
            "นาที : 126\n",
            "ดูตอนที่ 9 ใช้เวลา 25.2 นาทีต่อวัน\n"
          ]
        }
      ]
    },
    {
      "cell_type": "code",
      "source": [],
      "metadata": {
        "id": "TlY0vTyYy-M_"
      },
      "execution_count": null,
      "outputs": []
    }
  ]
}