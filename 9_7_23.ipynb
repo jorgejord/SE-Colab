{
  "nbformat": 4,
  "nbformat_minor": 0,
  "metadata": {
    "colab": {
      "provenance": [],
      "authorship_tag": "ABX9TyNzvdrgN1iFqR1NgYlpo84F",
      "include_colab_link": true
    },
    "kernelspec": {
      "name": "python3",
      "display_name": "Python 3"
    },
    "language_info": {
      "name": "python"
    }
  },
  "cells": [
    {
      "cell_type": "markdown",
      "metadata": {
        "id": "view-in-github",
        "colab_type": "text"
      },
      "source": [
        "<a href=\"https://colab.research.google.com/github/jorgejord/SE-Colab/blob/main/9_7_23.ipynb\" target=\"_parent\"><img src=\"https://colab.research.google.com/assets/colab-badge.svg\" alt=\"Open In Colab\"/></a>"
      ]
    },
    {
      "cell_type": "code",
      "source": [
        "type('a')"
      ],
      "metadata": {
        "colab": {
          "base_uri": "https://localhost:8080/"
        },
        "id": "Tf2X2xzIdnmi",
        "outputId": "292fe053-2817-4351-e868-4511e724e460"
      },
      "execution_count": null,
      "outputs": [
        {
          "output_type": "execute_result",
          "data": {
            "text/plain": [
              "str"
            ]
          },
          "metadata": {},
          "execution_count": 116
        }
      ]
    },
    {
      "cell_type": "code",
      "execution_count": null,
      "metadata": {
        "id": "qXzGiOnycTcP"
      },
      "outputs": [],
      "source": [
        "Tax=float(input('input tax '))\n",
        "Vat=float(input('input vat '))\n",
        "Result=(Tax*Vat)/100+Tax\n",
        "#Price=Tax+Tax*Vat\n",
        "Price=Tax*(1+Vat)\n",
        "print(Result)\n",
        "print(Price)"
      ]
    },
    {
      "cell_type": "code",
      "source": [
        "def get_grade(score):\n",
        "  if score >= 70 and score < 80:\n",
        "    return True\n",
        "  else:\n",
        "    return False\n",
        "\n",
        "if __name__ == \"__main__\":\n",
        "  score = float(input(\"Enter your score: \"))\n",
        "  print(get_grade(score))"
      ],
      "metadata": {
        "id": "NCUy8AwjnGkS"
      },
      "execution_count": null,
      "outputs": []
    },
    {
      "cell_type": "code",
      "source": [
        "def get_grade(Coin):\n",
        "  if Coin >= 0:\n",
        "    return True\n",
        "  else:\n",
        "    return False\n",
        "if __name__ == \"__main__\":\n",
        "  Coin = float(input(\"Enter your Coin: \"))\n",
        "  print(get_grade(Coin))"
      ],
      "metadata": {
        "id": "vTcxZzhz47mh"
      },
      "execution_count": null,
      "outputs": []
    },
    {
      "cell_type": "code",
      "source": [
        "def get_grade(Coin):\n",
        "  if Coin >= 0:\n",
        "    print(\"if\")\n",
        "  else:\n",
        "    print(\"else\")\n",
        "  if __name__ == \"__main__\":\n",
        "  Coin = float(input(\"Enter your Coin: \"))\n",
        "  print(get_grade(Coin))"
      ],
      "metadata": {
        "colab": {
          "base_uri": "https://localhost:8080/"
        },
        "id": "3m1lDuEiAJwI",
        "outputId": "cd84cbfc-a207-4d13-8624-140f43cde5e1"
      },
      "execution_count": null,
      "outputs": [
        {
          "output_type": "stream",
          "name": "stdout",
          "text": [
            "Enter your Coin: 5\n",
            "if\n",
            "None\n"
          ]
        }
      ]
    },
    {
      "cell_type": "code",
      "source": [
        "x=int(input(' '))\n",
        "if (x % 2) == 0:\n",
        "  print('duo')\n",
        "else:\n",
        "  print('ist')"
      ],
      "metadata": {
        "colab": {
          "base_uri": "https://localhost:8080/"
        },
        "id": "X_WFd34eRS4X",
        "outputId": "88c94482-c1c6-460a-ac22-4abc949a2470"
      },
      "execution_count": null,
      "outputs": [
        {
          "output_type": "stream",
          "name": "stdout",
          "text": [
            " 0\n",
            "duo\n"
          ]
        }
      ]
    },
    {
      "cell_type": "code",
      "source": [
        "A = int(input(' '))\n",
        "if A < 0 or A > 100:\n",
        "    print('Invalid input')\n",
        "elif (A % 2) == 0:\n",
        "    print('The input is even')\n",
        "else:\n",
        "    print('The input is odd')\n",
        "print('Thanks for using me.')"
      ],
      "metadata": {
        "colab": {
          "base_uri": "https://localhost:8080/"
        },
        "id": "Rx-YAww6TSJ3",
        "outputId": "d13652fd-8b3e-4912-b051-bc40fa5f7a69"
      },
      "execution_count": null,
      "outputs": [
        {
          "output_type": "stream",
          "name": "stdout",
          "text": [
            " 1\n",
            "The input is odd\n"
          ]
        }
      ]
    },
    {
      "cell_type": "code",
      "source": [
        "A = int(input(' '))\n",
        "if A > 0 and A < 100:\n",
        "  if A % 2 == 0:\n",
        "    print('The input is even')\n",
        "  if A % 2 != 0:\n",
        "    print('The input is odd')\n",
        "  print('Thanks for using me.')"
      ],
      "metadata": {
        "colab": {
          "base_uri": "https://localhost:8080/"
        },
        "id": "gdlvV79KW7tX",
        "outputId": "0f815ffd-3e6d-45bd-a836-fc6fd502c33e"
      },
      "execution_count": null,
      "outputs": [
        {
          "name": "stdout",
          "output_type": "stream",
          "text": [
            " -1\n"
          ]
        }
      ]
    },
    {
      "cell_type": "code",
      "source": [
        "C = input()\n",
        "if(type(C)!=str):\n",
        "  print('Error')\n",
        "else:\n",
        "  if C == 'USA'or C == 'China'or C == 'Korea'or C =='Japan':\n",
        "    print('Vat = 6')\n",
        "  elif C == 'Lao'or C == 'Cambodia'or C == 'Myanmar'or C == 'Malaysia':\n",
        "    print('Vat = 5')\n",
        "  else :\n",
        "    print('Vat = 10')\n"
      ],
      "metadata": {
        "colab": {
          "base_uri": "https://localhost:8080/"
        },
        "id": "7-4D7UHsX8wH",
        "outputId": "df0022f8-5658-4184-89bd-5e21fa587e4c"
      },
      "execution_count": null,
      "outputs": [
        {
          "output_type": "stream",
          "name": "stdout",
          "text": [
            "1\n",
            "Vat = 10\n"
          ]
        }
      ]
    }
  ]
}